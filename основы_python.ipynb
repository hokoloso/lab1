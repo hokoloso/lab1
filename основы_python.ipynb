{
  "cells": [
    {
      "cell_type": "markdown",
      "metadata": {
        "id": "M-DGa20PaHnu"
      },
      "source": [
        "#Задача 1\n",
        "Написать функцию на вход которой подается строка, состоящая из латинских букв.\n",
        "Функция должна вернуть количество гласных букв (a, e, i, o, u) в этой строке. Написать тесты для кода"
      ]
    },
    {
      "cell_type": "code",
      "execution_count": 1,
      "metadata": {
        "id": "XvX8X_JJ6PCb"
      },
      "outputs": [
        {
          "name": "stdout",
          "output_type": "stream",
          "text": [
            "Все тесты пройдены\n"
          ]
        }
      ],
      "source": [
        "def count_vowel_letters(line):\n",
        "    count = 0\n",
        "    for i in range(0, len(line)):\n",
        "        if line[i] in 'AaEeIiOoUu':\n",
        "            count += 1 \n",
        "    return count\n",
        "\n",
        "# тесты\n",
        "def test_count_vowel_letters():\n",
        "    assert count_vowel_letters('JHJHJHJHJjhjhjhjjhjhiJJJJJJ') == 1\n",
        "    assert count_vowel_letters('aAaAGHGHGHGHGHGH') == 4\n",
        "    assert count_vowel_letters('ptnptntrgrgh') == 0\n",
        "    assert count_vowel_letters('aAuI') == 4\n",
        "\n",
        "# запуск тестов\n",
        "test_count_vowel_letters()\n",
        "print('Все тесты пройдены')"
      ]
    },
    {
      "cell_type": "markdown",
      "metadata": {
        "id": "t2ClV_Y0bbr6"
      },
      "source": [
        "# Задача 2\n",
        "Написать функцию на вход, которой подается строка. Функция должна вернуть true, если\n",
        "каждый символ в строке встречается только 1 раз, иначе должна вернуть false. Написать тесты для кода"
      ]
    },
    {
      "cell_type": "code",
      "execution_count": 2,
      "metadata": {
        "id": "FppbECao6VIz"
      },
      "outputs": [
        {
          "name": "stdout",
          "output_type": "stream",
          "text": [
            "Все тесты пройдены\n"
          ]
        }
      ],
      "source": [
        "\n",
        "def count_letters(string):\n",
        "    return len(set(list(string.lower()))) == len(string)\n",
        "\n",
        "# тесты\n",
        "def test_count_letters():\n",
        "    assert count_letters('Плюшки') == True\n",
        "    assert count_letters('Plane') == True\n",
        "    assert count_letters('Пп') == False\n",
        "    assert count_letters('Puip') == False\n",
        "\n",
        "# запуск тестов\n",
        "test_count_letters()\n",
        "print('Все тесты пройдены')"
      ]
    },
    {
      "cell_type": "markdown",
      "metadata": {
        "id": "udRiIK1cdt6E"
      },
      "source": [
        "# Задача 3\n",
        "Написать функцию, которая принимает положительное число и возвращает количество\n",
        "бит равных 1 в этом числе. Написать тесты для кода"
      ]
    },
    {
      "cell_type": "code",
      "execution_count": 4,
      "metadata": {
        "id": "6tkfDJRz6dp_"
      },
      "outputs": [
        {
          "name": "stdout",
          "output_type": "stream",
          "text": [
            "Все тесты пройдены\n"
          ]
        }
      ],
      "source": [
        "\n",
        "def count_bit(number):\n",
        "    return bin(number).count('1')\n",
        "\n",
        "# тесты\n",
        "def test_count_bit():\n",
        "    assert count_bit(0) == 0\n",
        "    assert count_bit(3) == 2\n",
        "    assert count_bit(8) == 1\n",
        "    assert count_bit(5) == 2\n",
        "\n",
        "\n",
        "# запуск тестов\n",
        "test_count_bit()\n",
        "print('Все тесты пройдены')"
      ]
    },
    {
      "cell_type": "markdown",
      "metadata": {
        "id": "26dDUz-Ae17N"
      },
      "source": [
        "# Задача 4\n",
        "Написать функцию, которая принимает положительное число. Функция должна вернуть то,\n",
        "сколько раз необходимо перемножать цифры числа или результат перемножения, чтобы\n",
        "получилось число состоящее из одной цифры.\n",
        "Например, для входного числа:\n",
        "· 39 функция должна вернуть 3, так как 3*9=27 => 2*7=14 => 1*4=4\n",
        "· 4 функция должна вернуть 0, так как число уже состоит из одной цифры\n",
        "· 999 функция должна вернуть 4, так как 9*9*9=729 => 7*2*9=126 => 1*2*6=12 =>\n",
        "1*2=2. Написать тесты для кода"
      ]
    },
    {
      "cell_type": "code",
      "execution_count": 7,
      "metadata": {
        "id": "BH1A_Mgi6i4G"
      },
      "outputs": [
        {
          "name": "stdout",
          "output_type": "stream",
          "text": [
            "Все тесты пройдены\n"
          ]
        }
      ],
      "source": [
        "def magic(number):\n",
        "    count = 0\n",
        "    while number >= 10:\n",
        "        newnumber = 1\n",
        "        for digit in str(number):\n",
        "            newnumber *= int(digit)\n",
        "        count+=1\n",
        "        number = newnumber  \n",
        "\n",
        "    return count\n",
        "\n",
        "# тесты\n",
        "def test_magic():\n",
        "    assert magic(39) == 3\n",
        "    assert magic(999) == 4\n",
        "    assert magic(4) == 0\n",
        "\n",
        "# запуск тестов\n",
        "test_magic()\n",
        "print('Все тесты пройдены')"
      ]
    },
    {
      "cell_type": "markdown",
      "metadata": {
        "id": "0nS-kIa8g8vd"
      },
      "source": [
        "# Задача 5\n",
        "Написать функцию, которая принимает два целочисленных вектора одинаковой длины и\n",
        "возвращает среднеквадратическое отклонение двух векторов. Написать тесты для кода"
      ]
    },
    {
      "cell_type": "code",
      "execution_count": 12,
      "metadata": {
        "id": "8iphx4LM6xbx"
      },
      "outputs": [
        {
          "name": "stdout",
          "output_type": "stream",
          "text": [
            "Все тесты пройдены\n"
          ]
        }
      ],
      "source": [
        "def mse(v1: list, v2: list) -> float:\n",
        "    len_v1 = len(v1)\n",
        "    sum_of_squares = sum((v1[i] - v2[i]) ** 2 for i in range(len_v1))\n",
        "    mean_square_difference = sum_of_squares / len_v1\n",
        "    std_deviation = mean_square_difference**0.5\n",
        "\n",
        "    return std_deviation\n",
        "\n",
        "def test_mse():\n",
        "    p1 = [6,6,6,3,3]\n",
        "    p2 = [3,3,3,6,6]\n",
        "    assert mse(p1, p2)==3\n",
        "    p1 = [89,6,2,3,3]\n",
        "    p2 = [69,2,4,7,0]\n",
        "    assert mse(p1, p2)==9.433981132056603\n",
        "test_mse()\n",
        "print('Все тесты пройдены')"
      ]
    },
    {
      "cell_type": "markdown",
      "metadata": {
        "id": "vpIPKL439zkw"
      },
      "source": [
        "# Задача 6\n",
        "Написать функцию, принимающая целое положительное число. Функция должна вернуть\n",
        "строку вида “(n1**p1)(n2**p2)…(nk**pk)” представляющая разложение числа на простые\n",
        "множители (если pi == 1, то выводить только ni).\n",
        "Например, для числа 86240 функция должна вернуть “(2**5)(5)(7**2)(11)”. Написать тесты для кода"
      ]
    },
    {
      "cell_type": "code",
      "execution_count": 20,
      "metadata": {
        "id": "pFebmcZk94Jw"
      },
      "outputs": [
        {
          "name": "stdout",
          "output_type": "stream",
          "text": [
            "Все тесты пройдены\n"
          ]
        }
      ],
      "source": [
        "def prime_factorization(n: int) -> str:\n",
        "\n",
        "    factors = []\n",
        "    current_num = n\n",
        "    divisor = 2\n",
        "\n",
        "    while current_num > 1:\n",
        "        power = 0\n",
        "        while current_num % divisor == 0:\n",
        "            current_num //= divisor\n",
        "            power += 1\n",
        "        if power > 0:\n",
        "            if power == 1:\n",
        "                factors.append(f\"({divisor})\")\n",
        "            else:\n",
        "                factors.append(f\"({divisor}^{power})\")\n",
        "        divisor += 1\n",
        "        if divisor * divisor > current_num:\n",
        "            break\n",
        "    if current_num > 1:\n",
        "        factors.append(f\"({current_num})\")\n",
        "\n",
        "    return \"\".join(factors)\n",
        "\n",
        "def test_prime_factorization():\n",
        "    assert prime_factorization(77) == '(7)(11)'\n",
        "    assert prime_factorization(4460) == '(2^2)(5)(223)'\n",
        "    assert prime_factorization(1024) == '(2^10)'\n",
        "test_prime_factorization\n",
        "print('Все тесты пройдены')"
      ]
    },
    {
      "cell_type": "markdown",
      "metadata": {
        "id": "ps2s0BudX7A2"
      },
      "source": [
        "# Задача 7\n",
        "Написать функцию, принимающая целое число n, задающее количество кубиков. Функция\n",
        "должна определить, можно ли из данного кол-ва кубиков построить пирамиду, то есть\n",
        "можно ли представить число n как 1^2+2^2+3^2+…+k^2. Если можно, то функция должна\n",
        "вернуть k, иначе строку “It is impossible”. Написать тесты для кода"
      ]
    },
    {
      "cell_type": "code",
      "execution_count": 37,
      "metadata": {
        "id": "3YPjEXxhX_YT"
      },
      "outputs": [
        {
          "name": "stdout",
          "output_type": "stream",
          "text": [
            "Все тесты пройдены\n"
          ]
        }
      ],
      "source": [
        "def pyramid(number):\n",
        "    k= 0\n",
        "    cur_sum= 0 \n",
        "    while cur_sum < number:\n",
        "        k+=1\n",
        "        cur_sum+=k*k\n",
        "    if cur_sum==number and cur_sum>0:\n",
        "        return k\n",
        "    else:\n",
        "        return 'It is impossible'\n",
        "\n",
        "def test_pyramid():\n",
        "    assert pyramid(5) == 2\n",
        "    assert pyramid(55) == 5\n",
        "    assert pyramid(7) == 'It is impossible'\n",
        "    assert pyramid(-4) == 'It is impossible'\n",
        "test_pyramid()\n",
        "print('Все тесты пройдены')\n"
      ]
    },
    {
      "cell_type": "markdown",
      "metadata": {
        "id": "KeKgmIdAQMEJ"
      },
      "source": [
        "# Задача 8\n",
        "Функция принимает на вход положительное число и определяет является ли оно сбалансированным, т.е. сумма цифр до средних равна сумме цифр после. Средними в случае нечетного числа цифр считать одну цифру, в случае четного - две средних. Написать тесты для кода"
      ]
    },
    {
      "cell_type": "code",
      "execution_count": 63,
      "metadata": {
        "id": "gMAAqtqlQrZt"
      },
      "outputs": [
        {
          "name": "stdout",
          "output_type": "stream",
          "text": [
            "3 3 3\n",
            "2 3 3\n",
            "3 3 5\n",
            "2 8 6\n",
            "Все тесты пройдены\n"
          ]
        }
      ],
      "source": [
        "def balanced_number(n: int) -> bool:\n",
        "\n",
        "    digits = [int(digit) for digit in str(n)]\n",
        "    length = len(digits)\n",
        "    if length < 3:\n",
        "        return False\n",
        "\n",
        "    middle_index = length // 2\n",
        "    left_sum = sum(digits[:middle_index-(1-length%2)])\n",
        "    right_sum = sum(digits[middle_index + 1:])\n",
        "    return left_sum == right_sum\n",
        "\n",
        "def test_balanced_number():\n",
        "    assert balanced_number(123321) == True\n",
        "    assert balanced_number(12321) == True\n",
        "    assert balanced_number(123123) == False\n",
        "    assert balanced_number(44433) == False\n",
        "\n",
        "test_balanced_number()\n",
        "print('Все тесты пройдены')\n"
      ]
    }
  ],
  "metadata": {
    "colab": {
      "provenance": []
    },
    "kernelspec": {
      "display_name": "Python 3",
      "name": "python3"
    },
    "language_info": {
      "codemirror_mode": {
        "name": "ipython",
        "version": 3
      },
      "file_extension": ".py",
      "mimetype": "text/x-python",
      "name": "python",
      "nbconvert_exporter": "python",
      "pygments_lexer": "ipython3",
      "version": "3.10.11"
    }
  },
  "nbformat": 4,
  "nbformat_minor": 0
}
